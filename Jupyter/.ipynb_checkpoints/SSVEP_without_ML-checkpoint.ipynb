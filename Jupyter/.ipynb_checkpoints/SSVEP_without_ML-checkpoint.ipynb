{
 "cells": [
  {
   "cell_type": "markdown",
   "metadata": {},
   "source": [
    "# SSVEP without ML"
   ]
  },
  {
   "cell_type": "code",
   "execution_count": 3,
   "metadata": {
    "collapsed": true
   },
   "outputs": [],
   "source": [
    "import numpy as np\n",
    "import pandas as pd\n",
    "import matplotlib.pyplot as plt\n",
    "from scipy import signal"
   ]
  },
  {
   "cell_type": "code",
   "execution_count": 4,
   "metadata": {
    "collapsed": true
   },
   "outputs": [],
   "source": [
    "def butter_highpass(cutoff, fs, order=5):\n",
    "    nyq = 0.5 * fs\n",
    "    normal_cutoff = cutoff / nyq\n",
    "    b, a = signal.butter(order, normal_cutoff, btype='high', analog=False)\n",
    "    return b, a\n",
    "\n",
    "def butter_highpass_filter(data, cutoff, fs, order=5):\n",
    "    b, a = butter_highpass(cutoff, fs, order=order)\n",
    "    y = signal.filtfilt(b, a, data)\n",
    "    return y"
   ]
  },
  {
   "cell_type": "code",
   "execution_count": 5,
   "metadata": {
    "collapsed": true
   },
   "outputs": [],
   "source": [
    "from sklearn.preprocessing import MinMaxScaler\n",
    "\n",
    "def preprocess(t,label, fileName):\n",
    "    \n",
    "    label1 = 8\n",
    "    label2 = 14\n",
    "    tolr = 1.5\n",
    "    \n",
    "    data = np.loadtxt(fileName,delimiter=',' , skiprows=1)\n",
    "    data = data[:,[22]]\n",
    "    arr = []\n",
    "    \n",
    "    y = data[:,0][256: t*256]\n",
    "\n",
    "    y = butter_highpass_filter(y,5,256,5)\n",
    "    ps = np.abs(np.fft.fft(y))**2\n",
    "#     scaler = MinMaxScaler()\n",
    "#     scaler.fit(ps)\n",
    "#     ps = scaler.transform(ps)\n",
    "\n",
    "    arr.append(ps)\n",
    "        \n",
    "    freqs = np.fft.fftfreq( y.size , float(1)/256 )\n",
    "    arr.append(freqs)\n",
    "    \n",
    "    output_arr = np.array(arr)\n",
    "    output_arr = np.transpose(output_arr)\n",
    "    \n",
    "    # DROP WHEN FREQUENCY < 0\n",
    "    output_arr = output_arr[ np.logical_not( output_arr[:,1] < 0 ) ]\n",
    "    \n",
    "    rows,cols = output_arr.shape\n",
    "    \n",
    "    total1 = 0\n",
    "    total2 = 0\n",
    "    max1 = 0\n",
    "    max2 = 0\n",
    "    \n",
    "    for x in range (0,rows):\n",
    "        if ((output_arr[x][1] <= label1 + tolr) and (output_arr[x][1] >= label1 - tolr)):\n",
    "            total1 += output_arr[x][0]\n",
    "            if (max1 < output_arr[x][0]):\n",
    "                max1 = output_arr[x][0]\n",
    "        if ((output_arr[x][1] <= label2 + tolr) and (output_arr[x][1] >= label2 - tolr)):\n",
    "            total2 += output_arr[x][0]\n",
    "            if (max2 < output_arr[x][0]):\n",
    "                max2 = output_arr[x][0]\n",
    "\n",
    "            \n",
    "            \n",
    "    predict = 0\n",
    "    if (max1 >= max2):\n",
    "        predict = 8\n",
    "    else:\n",
    "        predict = 14\n",
    "    \n",
    "\n",
    "    fin_arr = np.array([[max1,max2,label,predict]])\n",
    "    \n",
    "#     if (label == predict):\n",
    "#         success += 1\n",
    "    return fin_arr\n",
    "#     return output_arr"
   ]
  },
  {
   "cell_type": "code",
   "execution_count": 6,
   "metadata": {},
   "outputs": [
    {
     "data": {
      "text/plain": [
       "array([[  4.72758972e+05,   2.88292474e+05,   8.00000000e+00,\n",
       "          8.00000000e+00]])"
      ]
     },
     "execution_count": 6,
     "metadata": {},
     "output_type": "execute_result"
    }
   ],
   "source": [
    "preprocess(2,8, '../Data/SSVEP_Public/SSVEP_8Hz_Trial1_SUBJ3.MAT.csv')"
   ]
  },
  {
   "cell_type": "code",
   "execution_count": 7,
   "metadata": {
    "collapsed": true
   },
   "outputs": [],
   "source": [
    "eight_ssvep =   ['../Data/SSVEP_Public/SSVEP_8Hz_Trial1_SUBJ1.MAT.csv',\n",
    "                 '../Data/SSVEP_Public/SSVEP_8Hz_Trial1_SUBJ2.MAT.csv', \n",
    "                 '../Data/SSVEP_Public/SSVEP_8Hz_Trial1_SUBJ3.MAT.csv', \n",
    "                 '../Data/SSVEP_Public/SSVEP_8Hz_Trial1_SUBJ4.MAT.csv',\n",
    "                 '../Data/SSVEP_Public/SSVEP_8Hz_Trial2_SUBJ1.MAT.csv',\n",
    "                 '../Data/SSVEP_Public/SSVEP_8Hz_Trial2_SUBJ2.MAT.csv', \n",
    "                 '../Data/SSVEP_Public/SSVEP_8Hz_Trial2_SUBJ3.MAT.csv', \n",
    "                 '../Data/SSVEP_Public/SSVEP_8Hz_Trial2_SUBJ4.MAT.csv',\n",
    "                 '../Data/SSVEP_Public/SSVEP_8Hz_Trial3_SUBJ1.MAT.csv',\n",
    "                 '../Data/SSVEP_Public/SSVEP_8Hz_Trial3_SUBJ2.MAT.csv', \n",
    "                 '../Data/SSVEP_Public/SSVEP_8Hz_Trial3_SUBJ3.MAT.csv', \n",
    "                 '../Data/SSVEP_Public/SSVEP_8Hz_Trial3_SUBJ4.MAT.csv',\n",
    "                 '../Data/SSVEP_Public/SSVEP_8Hz_Trial4_SUBJ1.MAT.csv',\n",
    "                 '../Data/SSVEP_Public/SSVEP_8Hz_Trial4_SUBJ2.MAT.csv', \n",
    "                 '../Data/SSVEP_Public/SSVEP_8Hz_Trial4_SUBJ3.MAT.csv', \n",
    "                 '../Data/SSVEP_Public/SSVEP_8Hz_Trial4_SUBJ4.MAT.csv',\n",
    "                ]\n",
    "\n",
    "fourteen_ssvep =   ['../Data/SSVEP_Public/SSVEP_14Hz_Trial1_SUBJ1.MAT.csv',\n",
    "                 '../Data/SSVEP_Public/SSVEP_14Hz_Trial1_SUBJ2.MAT.csv', \n",
    "                 '../Data/SSVEP_Public/SSVEP_14Hz_Trial1_SUBJ3.MAT.csv', \n",
    "                 '../Data/SSVEP_Public/SSVEP_14Hz_Trial1_SUBJ4.MAT.csv',\n",
    "                 '../Data/SSVEP_Public/SSVEP_14Hz_Trial2_SUBJ1.MAT.csv',\n",
    "                 '../Data/SSVEP_Public/SSVEP_14Hz_Trial2_SUBJ2.MAT.csv', \n",
    "                 '../Data/SSVEP_Public/SSVEP_14Hz_Trial2_SUBJ3.MAT.csv', \n",
    "                 '../Data/SSVEP_Public/SSVEP_14Hz_Trial2_SUBJ4.MAT.csv',\n",
    "                 '../Data/SSVEP_Public/SSVEP_14Hz_Trial3_SUBJ1.MAT.csv',\n",
    "                 '../Data/SSVEP_Public/SSVEP_14Hz_Trial3_SUBJ2.MAT.csv', \n",
    "                 '../Data/SSVEP_Public/SSVEP_14Hz_Trial3_SUBJ3.MAT.csv', \n",
    "                 '../Data/SSVEP_Public/SSVEP_14Hz_Trial3_SUBJ4.MAT.csv',\n",
    "                 '../Data/SSVEP_Public/SSVEP_14Hz_Trial4_SUBJ1.MAT.csv',\n",
    "                 '../Data/SSVEP_Public/SSVEP_14Hz_Trial4_SUBJ2.MAT.csv', \n",
    "                 '../Data/SSVEP_Public/SSVEP_14Hz_Trial4_SUBJ3.MAT.csv', \n",
    "                 '../Data/SSVEP_Public/SSVEP_14Hz_Trial4_SUBJ4.MAT.csv',]"
   ]
  },
  {
   "cell_type": "code",
   "execution_count": 8,
   "metadata": {},
   "outputs": [],
   "source": [
    "time = 18\n",
    "train_data = np.concatenate((   \n",
    "                                preprocess(time,8, eight_ssvep[0]),    \n",
    "                                preprocess(time,8, eight_ssvep[1]),  \n",
    "                                preprocess(time,8, eight_ssvep[2]),    \n",
    "                                preprocess(time,8, eight_ssvep[12]), \n",
    "                                preprocess(time,14, fourteen_ssvep[0]),  \n",
    "                                preprocess(time,14, fourteen_ssvep[1]),  \n",
    "                                preprocess(time,14, fourteen_ssvep[2]),  \n",
    "                                preprocess(time,14, fourteen_ssvep[12]),\n",
    "                                preprocess(time,8, eight_ssvep[4]),    \n",
    "                                preprocess(time,8, eight_ssvep[5]),    \n",
    "                                preprocess(time,8, eight_ssvep[6]),    \n",
    "                                preprocess(time,8, eight_ssvep[13]), \n",
    "                                preprocess(time,14, fourteen_ssvep[4]),  \n",
    "                                preprocess(time,14, fourteen_ssvep[5]),  \n",
    "                                preprocess(time,14, fourteen_ssvep[6]),  \n",
    "                                preprocess(time,14, fourteen_ssvep[13]),\n",
    "                                preprocess(time,8, eight_ssvep[8]),    \n",
    "                                preprocess(time,8, eight_ssvep[9]),    \n",
    "                                preprocess(time,8, eight_ssvep[10]),    \n",
    "                                preprocess(time,8, eight_ssvep[14]), \n",
    "                                preprocess(time,14, fourteen_ssvep[8]),  \n",
    "                                preprocess(time,14, fourteen_ssvep[9]),  \n",
    "                                preprocess(time,14, fourteen_ssvep[10]),  \n",
    "                                preprocess(time,14, fourteen_ssvep[14]),\n",
    "                                preprocess(time,8, eight_ssvep[3]),    \n",
    "                                preprocess(time,8, eight_ssvep[7]),    \n",
    "                                preprocess(time,8, eight_ssvep[11]),    \n",
    "                                preprocess(time,8, eight_ssvep[15]), \n",
    "                                preprocess(time,14, fourteen_ssvep[3]),  \n",
    "                                preprocess(time,14, fourteen_ssvep[7]),  \n",
    "                                preprocess(time,14, fourteen_ssvep[11]),  \n",
    "                                preprocess(time,14, fourteen_ssvep[15])\n",
    "                            ), axis=0)"
   ]
  },
  {
   "cell_type": "code",
   "execution_count": 9,
   "metadata": {},
   "outputs": [
    {
     "name": "stdout",
     "output_type": "stream",
     "text": [
      "(32, 4)\n"
     ]
    }
   ],
   "source": [
    "print train_data.shape"
   ]
  },
  {
   "cell_type": "code",
   "execution_count": 10,
   "metadata": {},
   "outputs": [
    {
     "name": "stdout",
     "output_type": "stream",
     "text": [
      "[[  8.44728314e+06   3.36303896e+05   8.00000000e+00   8.00000000e+00]\n",
      " [  2.88097620e+05   2.47878501e+04   8.00000000e+00   8.00000000e+00]\n",
      " [  5.04215056e+07   1.00371231e+07   8.00000000e+00   8.00000000e+00]\n",
      " [  8.95263700e+06   5.07936915e+05   8.00000000e+00   8.00000000e+00]\n",
      " [  1.32716266e+06   6.64558899e+06   1.40000000e+01   1.40000000e+01]\n",
      " [  8.31314351e+04   4.25545442e+05   1.40000000e+01   1.40000000e+01]\n",
      " [  1.26187337e+07   2.02457379e+07   1.40000000e+01   1.40000000e+01]\n",
      " [  1.81148715e+06   3.77746244e+06   1.40000000e+01   1.40000000e+01]\n",
      " [  1.14683795e+07   4.65673995e+05   8.00000000e+00   8.00000000e+00]\n",
      " [  2.17148816e+05   5.05626387e+04   8.00000000e+00   8.00000000e+00]\n",
      " [  4.38154769e+07   7.81190541e+06   8.00000000e+00   8.00000000e+00]\n",
      " [  2.00271191e+05   2.85978302e+04   8.00000000e+00   8.00000000e+00]\n",
      " [  1.48303444e+06   8.21525598e+06   1.40000000e+01   1.40000000e+01]\n",
      " [  1.33172238e+05   6.60837240e+05   1.40000000e+01   1.40000000e+01]\n",
      " [  1.17404227e+07   2.84323490e+07   1.40000000e+01   1.40000000e+01]\n",
      " [  7.43020691e+04   4.48268584e+05   1.40000000e+01   1.40000000e+01]\n",
      " [  1.10561453e+07   3.94582624e+05   8.00000000e+00   8.00000000e+00]\n",
      " [  1.71204105e+05   4.73807685e+04   8.00000000e+00   8.00000000e+00]\n",
      " [  2.26679772e+07   8.54958714e+06   8.00000000e+00   8.00000000e+00]\n",
      " [  5.76089734e+07   1.90351457e+07   8.00000000e+00   8.00000000e+00]\n",
      " [  1.25760088e+06   4.05971737e+06   1.40000000e+01   1.40000000e+01]\n",
      " [  8.19020120e+04   6.62567427e+05   1.40000000e+01   1.40000000e+01]\n",
      " [  2.46447769e+07   1.02842734e+07   1.40000000e+01   8.00000000e+00]\n",
      " [  1.38625716e+07   1.13424477e+07   1.40000000e+01   8.00000000e+00]\n",
      " [  3.80427760e+05   1.89592287e+05   8.00000000e+00   8.00000000e+00]\n",
      " [  4.18048735e+05   1.97864725e+05   8.00000000e+00   8.00000000e+00]\n",
      " [  2.48058470e+05   2.22193641e+05   8.00000000e+00   8.00000000e+00]\n",
      " [  3.65314467e+05   1.90867811e+05   8.00000000e+00   8.00000000e+00]\n",
      " [  2.07793442e+05   1.43873923e+05   1.40000000e+01   8.00000000e+00]\n",
      " [  3.97981432e+05   2.64535152e+05   1.40000000e+01   8.00000000e+00]\n",
      " [  4.32710794e+05   2.25689465e+05   1.40000000e+01   8.00000000e+00]\n",
      " [  6.02318721e+05   3.10811016e+05   1.40000000e+01   8.00000000e+00]]\n"
     ]
    }
   ],
   "source": [
    "print train_data"
   ]
  },
  {
   "cell_type": "code",
   "execution_count": 11,
   "metadata": {},
   "outputs": [
    {
     "name": "stdout",
     "output_type": "stream",
     "text": [
      "('Cross-validation accuracy: ', 0.8125)\n"
     ]
    }
   ],
   "source": [
    "from sklearn import metrics\n",
    "from sklearn.metrics import confusion_matrix\n",
    "\n",
    "print(\"Cross-validation accuracy: \", metrics.accuracy_score(train_data[:,-2], train_data[:,-1]))"
   ]
  },
  {
   "cell_type": "code",
   "execution_count": 12,
   "metadata": {},
   "outputs": [
    {
     "name": "stdout",
     "output_type": "stream",
     "text": [
      "[[16  0]\n",
      " [ 6 10]]\n"
     ]
    }
   ],
   "source": [
    "print(confusion_matrix(train_data[:,-2], train_data[:,-1])) "
   ]
  }
 ],
 "metadata": {
  "kernelspec": {
   "display_name": "Python 2",
   "language": "python",
   "name": "python2"
  },
  "language_info": {
   "codemirror_mode": {
    "name": "ipython",
    "version": 2
   },
   "file_extension": ".py",
   "mimetype": "text/x-python",
   "name": "python",
   "nbconvert_exporter": "python",
   "pygments_lexer": "ipython2",
   "version": "2.7.13"
  }
 },
 "nbformat": 4,
 "nbformat_minor": 2
}
