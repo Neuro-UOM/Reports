{
 "cells": [
  {
   "cell_type": "markdown",
   "metadata": {},
   "source": [
    "# USING ML using area and spikes on SSVEP"
   ]
  },
  {
   "cell_type": "code",
   "execution_count": 61,
   "metadata": {
    "collapsed": true
   },
   "outputs": [],
   "source": [
    "import numpy as np\n",
    "import pandas as pd\n",
    "import matplotlib.pyplot as plt\n",
    "from scipy import signal"
   ]
  },
  {
   "cell_type": "code",
   "execution_count": 62,
   "metadata": {
    "collapsed": true
   },
   "outputs": [],
   "source": [
    "def butter_highpass(cutoff, fs, order=5):\n",
    "    nyq = 0.5 * fs\n",
    "    normal_cutoff = cutoff / nyq\n",
    "    b, a = signal.butter(order, normal_cutoff, btype='high', analog=False)\n",
    "    return b, a\n",
    "\n",
    "def butter_highpass_filter(data, cutoff, fs, order=5):\n",
    "    b, a = butter_highpass(cutoff, fs, order=order)\n",
    "    y = signal.filtfilt(b, a, data)\n",
    "    return y"
   ]
  },
  {
   "cell_type": "code",
   "execution_count": 63,
   "metadata": {
    "collapsed": true
   },
   "outputs": [],
   "source": [
    "from sklearn.preprocessing import MinMaxScaler\n",
    "\n",
    "def preprocess(t,label, fileName):\n",
    "    \n",
    "    label1 = 8\n",
    "    label2 = 14\n",
    "    tolr = 1.5\n",
    "    \n",
    "    data = np.loadtxt(fileName,delimiter=',' , skiprows=1)\n",
    "    data = data[:,[22]]\n",
    "    arr = []\n",
    "    \n",
    "    y = data[:,0][256: t*256]\n",
    "\n",
    "    y = butter_highpass_filter(y,5,256,5)\n",
    "    ps = np.abs(np.fft.fft(y))**2\n",
    "    \n",
    "    arr.append(ps)\n",
    "        \n",
    "    freqs = np.fft.fftfreq( y.size , float(1)/256 )\n",
    "    arr.append(freqs)\n",
    "    \n",
    "    output_arr = np.array(arr)\n",
    "    output_arr = np.transpose(output_arr)\n",
    "    \n",
    "    # DROP WHEN FREQUENCY < 0\n",
    "    output_arr = output_arr[ np.logical_not( output_arr[:,1] < 0 ) ]\n",
    "    \n",
    "    rows,cols = output_arr.shape\n",
    "    \n",
    "    total1 = 0\n",
    "    total2 = 0\n",
    "    max1 = 0\n",
    "    max2 = 0\n",
    "    \n",
    "    for x in range (0,rows):\n",
    "        if ((output_arr[x][1] <= label1 + tolr) and (output_arr[x][1] >= label1 - tolr)):\n",
    "            total1 += output_arr[x][0]\n",
    "            if (max1 < output_arr[x][0]):\n",
    "                max1 = output_arr[x][0]\n",
    "        if ((output_arr[x][1] <= label2 + tolr) and (output_arr[x][1] >= label2 - tolr)):\n",
    "            total2 += output_arr[x][0]\n",
    "            if (max2 < output_arr[x][0]):\n",
    "                max2 = output_arr[x][0]\n",
    "\n",
    "  \n",
    "    fin_arr = np.array([[max1,max2,label]])\n",
    "    \n",
    "    return fin_arr"
   ]
  },
  {
   "cell_type": "code",
   "execution_count": 64,
   "metadata": {},
   "outputs": [
    {
     "data": {
      "text/plain": [
       "array([[  4.72758972e+05,   2.88292474e+05,   8.00000000e+00]])"
      ]
     },
     "execution_count": 64,
     "metadata": {},
     "output_type": "execute_result"
    }
   ],
   "source": [
    "preprocess(2,8, '../Data/SSVEP_Public/SSVEP_8Hz_Trial1_SUBJ3.MAT.csv')"
   ]
  },
  {
   "cell_type": "code",
   "execution_count": 65,
   "metadata": {
    "collapsed": true
   },
   "outputs": [],
   "source": [
    "eight_ssvep =   ['../Data/SSVEP_Public/SSVEP_8Hz_Trial1_SUBJ1.MAT.csv',\n",
    "                 '../Data/SSVEP_Public/SSVEP_8Hz_Trial1_SUBJ2.MAT.csv', \n",
    "                 '../Data/SSVEP_Public/SSVEP_8Hz_Trial1_SUBJ3.MAT.csv', \n",
    "                 '../Data/SSVEP_Public/SSVEP_8Hz_Trial1_SUBJ4.MAT.csv',\n",
    "                 '../Data/SSVEP_Public/SSVEP_8Hz_Trial2_SUBJ1.MAT.csv',\n",
    "                 '../Data/SSVEP_Public/SSVEP_8Hz_Trial2_SUBJ2.MAT.csv', \n",
    "                 '../Data/SSVEP_Public/SSVEP_8Hz_Trial2_SUBJ3.MAT.csv', \n",
    "                 '../Data/SSVEP_Public/SSVEP_8Hz_Trial2_SUBJ4.MAT.csv',\n",
    "                 '../Data/SSVEP_Public/SSVEP_8Hz_Trial3_SUBJ1.MAT.csv',\n",
    "                 '../Data/SSVEP_Public/SSVEP_8Hz_Trial3_SUBJ2.MAT.csv', \n",
    "                 '../Data/SSVEP_Public/SSVEP_8Hz_Trial3_SUBJ3.MAT.csv', \n",
    "                 '../Data/SSVEP_Public/SSVEP_8Hz_Trial3_SUBJ4.MAT.csv',\n",
    "                 '../Data/SSVEP_Public/SSVEP_8Hz_Trial4_SUBJ1.MAT.csv',\n",
    "                 '../Data/SSVEP_Public/SSVEP_8Hz_Trial4_SUBJ2.MAT.csv', \n",
    "                 '../Data/SSVEP_Public/SSVEP_8Hz_Trial4_SUBJ3.MAT.csv', \n",
    "                 '../Data/SSVEP_Public/SSVEP_8Hz_Trial4_SUBJ4.MAT.csv',]\n",
    "\n",
    "fourteen_ssvep =   ['../Data/SSVEP_Public/SSVEP_14Hz_Trial1_SUBJ1.MAT.csv',\n",
    "                 '../Data/SSVEP_Public/SSVEP_14Hz_Trial1_SUBJ2.MAT.csv', \n",
    "                 '../Data/SSVEP_Public/SSVEP_14Hz_Trial1_SUBJ3.MAT.csv', \n",
    "                 '../Data/SSVEP_Public/SSVEP_14Hz_Trial1_SUBJ4.MAT.csv',\n",
    "                 '../Data/SSVEP_Public/SSVEP_14Hz_Trial2_SUBJ1.MAT.csv',\n",
    "                 '../Data/SSVEP_Public/SSVEP_14Hz_Trial2_SUBJ2.MAT.csv', \n",
    "                 '../Data/SSVEP_Public/SSVEP_14Hz_Trial2_SUBJ3.MAT.csv', \n",
    "                 '../Data/SSVEP_Public/SSVEP_14Hz_Trial2_SUBJ4.MAT.csv',\n",
    "                 '../Data/SSVEP_Public/SSVEP_14Hz_Trial3_SUBJ1.MAT.csv',\n",
    "                 '../Data/SSVEP_Public/SSVEP_14Hz_Trial3_SUBJ2.MAT.csv', \n",
    "                 '../Data/SSVEP_Public/SSVEP_14Hz_Trial3_SUBJ3.MAT.csv', \n",
    "                 '../Data/SSVEP_Public/SSVEP_14Hz_Trial3_SUBJ4.MAT.csv',\n",
    "                 '../Data/SSVEP_Public/SSVEP_14Hz_Trial4_SUBJ1.MAT.csv',\n",
    "                 '../Data/SSVEP_Public/SSVEP_14Hz_Trial4_SUBJ2.MAT.csv', \n",
    "                 '../Data/SSVEP_Public/SSVEP_14Hz_Trial4_SUBJ3.MAT.csv', \n",
    "                 '../Data/SSVEP_Public/SSVEP_14Hz_Trial4_SUBJ4.MAT.csv',]"
   ]
  },
  {
   "cell_type": "code",
   "execution_count": 66,
   "metadata": {
    "collapsed": true
   },
   "outputs": [],
   "source": [
    "time = 5\n",
    "train_data = np.concatenate((   preprocess(time,8, eight_ssvep[0]),    \n",
    "                                preprocess(time,8, eight_ssvep[1]),    \n",
    "                                preprocess(time,8, eight_ssvep[2]),    \n",
    "                                preprocess(time,8, eight_ssvep[12]), \n",
    "                                preprocess(time,14, fourteen_ssvep[0]),  \n",
    "                                preprocess(time,14, fourteen_ssvep[1]),  \n",
    "                                preprocess(time,14, fourteen_ssvep[2]),  \n",
    "                                preprocess(time,14, fourteen_ssvep[12]),\n",
    "                                preprocess(time,8, eight_ssvep[4]),    \n",
    "                                preprocess(time,8, eight_ssvep[5]),    \n",
    "                                preprocess(time,8, eight_ssvep[6]),    \n",
    "                                preprocess(time,8, eight_ssvep[13]), \n",
    "                                preprocess(time,14, fourteen_ssvep[4]),  \n",
    "                                preprocess(time,14, fourteen_ssvep[5]),  \n",
    "                                preprocess(time,14, fourteen_ssvep[6]),  \n",
    "                                preprocess(time,14, fourteen_ssvep[13]),\n",
    "                                preprocess(time,8, eight_ssvep[8]),    \n",
    "                                preprocess(time,8, eight_ssvep[9]),    \n",
    "                                preprocess(time,8, eight_ssvep[10]),    \n",
    "                                preprocess(time,8, eight_ssvep[14]), \n",
    "                                preprocess(time,14, fourteen_ssvep[8]),  \n",
    "                                preprocess(time,14, fourteen_ssvep[9]),  \n",
    "                                preprocess(time,14, fourteen_ssvep[10]),  \n",
    "                                preprocess(time,14, fourteen_ssvep[14]),\n",
    "                                preprocess(time,8, eight_ssvep[3]),    \n",
    "                                preprocess(time,8, eight_ssvep[7]),    \n",
    "                                preprocess(time,8, eight_ssvep[11]),    \n",
    "                                preprocess(time,8, eight_ssvep[15]), \n",
    "                                preprocess(time,14, fourteen_ssvep[3]),  \n",
    "                                preprocess(time,14, fourteen_ssvep[7]),  \n",
    "                                preprocess(time,14, fourteen_ssvep[11]),  \n",
    "                                preprocess(time,14, fourteen_ssvep[15])\n",
    "                            ), axis=0)"
   ]
  },
  {
   "cell_type": "code",
   "execution_count": 67,
   "metadata": {},
   "outputs": [
    {
     "name": "stdout",
     "output_type": "stream",
     "text": [
      "(32, 3)\n"
     ]
    }
   ],
   "source": [
    "print train_data.shape"
   ]
  },
  {
   "cell_type": "code",
   "execution_count": 68,
   "metadata": {
    "collapsed": true
   },
   "outputs": [],
   "source": [
    "train_X = train_data[:,:-1]\n",
    "train_Y = train_data[:,-1]"
   ]
  },
  {
   "cell_type": "code",
   "execution_count": 69,
   "metadata": {
    "collapsed": true
   },
   "outputs": [],
   "source": [
    "from sklearn.svm import SVC\n",
    "from sklearn import metrics\n",
    "from sklearn.model_selection import cross_val_predict\n",
    "from sklearn import svm, datasets\n",
    "from sklearn.metrics import confusion_matrix\n",
    "from sklearn.kernel_approximation import RBFSampler\n",
    "from sklearn.linear_model import SGDClassifier\n",
    "from sklearn.naive_bayes import GaussianNB\n",
    "from sklearn.neural_network import MLPClassifier\n",
    "from sklearn.tree import DecisionTreeClassifier\n",
    "from sklearn.neighbors import KNeighborsClassifier\n",
    "from sklearn.neighbors import NearestCentroid\n",
    "from sklearn.ensemble import RandomForestClassifier\n",
    "from sklearn import metrics\n",
    "from sklearn.metrics import confusion_matrix\n",
    "\n",
    "classifiers = [ \n",
    "                    DecisionTreeClassifier(),\n",
    "                    KNeighborsClassifier(n_neighbors=9),\n",
    "                    GaussianNB(),\n",
    "                    NearestCentroid(),\n",
    "                    RandomForestClassifier(n_estimators=200, oob_score=True, n_jobs = -1)\n",
    "                  ]"
   ]
  },
  {
   "cell_type": "code",
   "execution_count": 70,
   "metadata": {},
   "outputs": [
    {
     "name": "stdout",
     "output_type": "stream",
     "text": [
      "\n",
      "DecisionTreeClassifier(class_weight=None, criterion='gini', max_depth=None,\n",
      "            max_features=None, max_leaf_nodes=None,\n",
      "            min_impurity_split=1e-07, min_samples_leaf=1,\n",
      "            min_samples_split=2, min_weight_fraction_leaf=0.0,\n",
      "            presort=False, random_state=None, splitter='best')\n",
      "[[10  6]\n",
      " [ 8  8]]\n",
      "('Cross-validation accuracy: ', 0.5625)\n",
      "\n",
      "KNeighborsClassifier(algorithm='auto', leaf_size=30, metric='minkowski',\n",
      "           metric_params=None, n_jobs=1, n_neighbors=9, p=2,\n",
      "           weights='uniform')\n",
      "[[ 9  7]\n",
      " [ 6 10]]\n",
      "('Cross-validation accuracy: ', 0.59375)\n",
      "\n",
      "GaussianNB(priors=None)\n",
      "[[ 3 13]\n",
      " [ 3 13]]\n",
      "('Cross-validation accuracy: ', 0.5)\n",
      "\n",
      "NearestCentroid(metric='euclidean', shrink_threshold=None)\n",
      "[[ 3 13]\n",
      " [ 2 14]]\n",
      "('Cross-validation accuracy: ', 0.53125)\n",
      "\n",
      "RandomForestClassifier(bootstrap=True, class_weight=None, criterion='gini',\n",
      "            max_depth=None, max_features='auto', max_leaf_nodes=None,\n",
      "            min_impurity_split=1e-07, min_samples_leaf=1,\n",
      "            min_samples_split=2, min_weight_fraction_leaf=0.0,\n",
      "            n_estimators=200, n_jobs=-1, oob_score=True, random_state=None,\n",
      "            verbose=0, warm_start=False)\n",
      "[[ 9  7]\n",
      " [ 6 10]]\n",
      "('Cross-validation accuracy: ', 0.59375)\n"
     ]
    }
   ],
   "source": [
    "for clf in classifiers:\n",
    "        print \"\"\n",
    "        print clf\n",
    " \n",
    "        predicted = cross_val_predict(clf, train_X, train_Y, cv=10)\n",
    "        \n",
    "        print(confusion_matrix(train_Y, predicted))\n",
    "        print(\"Cross-validation accuracy: \", metrics.accuracy_score(train_Y, predicted))"
   ]
  },
  {
   "cell_type": "code",
   "execution_count": null,
   "metadata": {
    "collapsed": true
   },
   "outputs": [],
   "source": []
  }
 ],
 "metadata": {
  "kernelspec": {
   "display_name": "Python 2",
   "language": "python",
   "name": "python2"
  },
  "language_info": {
   "codemirror_mode": {
    "name": "ipython",
    "version": 2
   },
   "file_extension": ".py",
   "mimetype": "text/x-python",
   "name": "python",
   "nbconvert_exporter": "python",
   "pygments_lexer": "ipython2",
   "version": "2.7.13"
  }
 },
 "nbformat": 4,
 "nbformat_minor": 2
}
